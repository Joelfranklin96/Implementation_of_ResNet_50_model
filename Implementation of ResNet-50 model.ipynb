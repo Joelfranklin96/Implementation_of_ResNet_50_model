{
 "cells": [
  {
   "cell_type": "code",
   "execution_count": 3,
   "metadata": {
    "deletable": false,
    "editable": false
   },
   "outputs": [],
   "source": [
    "### v2.1"
   ]
  },
  {
   "cell_type": "code",
   "execution_count": 4,
   "metadata": {},
   "outputs": [],
   "source": [
    "# Importing the necessary packages\n",
    "\n",
    "import tensorflow as tf\n",
    "import numpy as np\n",
    "import scipy.misc\n",
    "from tensorflow.keras.applications.resnet_v2 import ResNet50V2\n",
    "from tensorflow.keras.preprocessing import image\n",
    "from tensorflow.keras.applications.resnet_v2 import preprocess_input, decode_predictions\n",
    "from tensorflow.keras import layers\n",
    "from tensorflow.keras.layers import Input, Add, Dense, Activation, ZeroPadding2D, Flatten, Conv2D, AveragePooling2D, MaxPooling2D, GlobalMaxPooling2D\n",
    "from tensorflow.keras.models import Model, load_model\n",
    "from resnets_utils import *\n",
    "from tensorflow.keras.initializers import random_uniform, glorot_uniform, constant, identity\n",
    "from tensorflow.python.framework.ops import EagerTensor\n",
    "from matplotlib.pyplot import imshow\n",
    "\n",
    "\n",
    "from test_utils import summary, comparator\n",
    "import public_tests\n",
    "\n",
    "%matplotlib inline\n",
    "np.random.seed(1)\n",
    "tf.random.set_seed(2)"
   ]
  },
  {
   "cell_type": "code",
   "execution_count": 5,
   "metadata": {},
   "outputs": [],
   "source": [
    "# The problem of deep neural networks is vanishing/exploding gradients.\n",
    "\n",
    "# Note\n",
    "# In the case of deep neural networks, there is the problem of vanishing gradients. \n",
    "# The gradients of the initial layer weights are very small as compared to the gradients of the weights of layers at the back. \n",
    "# So Adam's optimization considers adaptive learning rate to be large for the initial layers and small for the layers at \n",
    "# the back. Still the deep neural networks suffer from vanishing gradients.\n",
    "\n",
    "# In the rare case of exploding gradients, the optimizing algorithm may diverge.\n",
    "\n",
    "# Due to vanishing gradients, the learning speed of weights of initial layers is small when compared to the learning speed\n",
    "# of weights of layers at the back."
   ]
  },
  {
   "cell_type": "code",
   "execution_count": 6,
   "metadata": {},
   "outputs": [],
   "source": [
    "# Resnets make it easier for the model to learn the identity function. The gradient of the identity function is 1. \n",
    "# So this reduces the chances of vanishing/exploding gradients which happens as we backpropagate (multiplication of matrices) \n",
    "# from the back to the initial layers."
   ]
  },
  {
   "cell_type": "code",
   "execution_count": 7,
   "metadata": {},
   "outputs": [],
   "source": [
    "# Two main types of blocks are used in a ResNet, depending mainly on whether the input/output dimensions are the same or \n",
    "# different. We are going to implement both of them: the \"identity block\" and the \"convolutional block.\""
   ]
  },
  {
   "cell_type": "code",
   "execution_count": 8,
   "metadata": {},
   "outputs": [],
   "source": [
    "# Here is where you're actually using the power of the Functional API to create a shortcut path"
   ]
  },
  {
   "cell_type": "markdown",
   "metadata": {},
   "source": [
    "### Identity block"
   ]
  },
  {
   "cell_type": "code",
   "execution_count": 9,
   "metadata": {
    "nbgrader": {
     "grade": false,
     "grade_id": "cell-0017b68317ffa974",
     "locked": false,
     "schema_version": 3,
     "solution": true,
     "task": false
    }
   },
   "outputs": [],
   "source": [
    "def identity_block(X, f, filters, initializer=random_uniform):\n",
    "    \"\"\"\n",
    "    Implementation of the identity block as defined in Figure 4\n",
    "    \n",
    "    Arguments:\n",
    "    X -- input tensor of shape (m, n_H_prev, n_W_prev, n_C_prev)\n",
    "    f -- integer, specifying the shape of the middle CONV's window for the main path\n",
    "    filters -- python list of integers, defining the number of filters in the CONV layers of the main path\n",
    "    initializer -- to set up the initial weights of a layer. Equals to random uniform initializer\n",
    "    \n",
    "    Returns:\n",
    "    X -- output of the identity block, tensor of shape (m, n_H, n_W, n_C)\n",
    "    \"\"\"\n",
    "    \n",
    "    # Retrieve Filters\n",
    "    F1, F2, F3 = filters\n",
    "    \n",
    "    # Save the input value \n",
    "    X_shortcut = X\n",
    "    # 'X_shortcut' and 'X' are of shape nh x nw x nc\n",
    "    # Note - Tensors are immutable unlike python lists and arrays\n",
    "    \n",
    "    # First component of main path\n",
    "    X = Conv2D(filters = F1, kernel_size = 1, strides = (1,1), padding = 'valid', kernel_initializer = initializer(seed=0))(X)\n",
    "    # 'X' is of shape nh x nw x F1\n",
    "    # kernel_initializer refers to the method used for the initial weight initialization of the kernel (or weights) in a \n",
    "    # layer of a neural network.\n",
    "    # 'valid' padding means no padding\n",
    "    X = BatchNormalization(axis = 3)(X) # Default axis\n",
    "    X = Activation('relu')(X)\n",
    "    \n",
    "    ## Second component of main path\n",
    "    ## Set the padding = 'same'\n",
    "    X = Conv2D(filters = F2, kernel_size = f, strides = (1,1), padding = 'same', kernel_initializer = initializer(seed=0))(X)\n",
    "    # 'X' is of shape nh x nw x F2\n",
    "    X = BatchNormalization(axis = 3)(X)\n",
    "    X = Activation('relu')(X)\n",
    "\n",
    "    ## Third component of main path\n",
    "    ## Set the padding = 'valid'\n",
    "    X = Conv2D(filters = F3, kernel_size = 1, strides = (1,1), padding = 'valid', kernel_initializer = initializer(seed=0))(X)\n",
    "    # 'X' is of shape nh x nw x F3\n",
    "    X = BatchNormalization(axis = 3)(X)\n",
    "    \n",
    "    ## Final step: Add shortcut value to main path, and pass it through a RELU activation\n",
    "    X = Add()([X,X_shortcut])\n",
    "    # Since this is an identity block, F3 = nc because X and X_shortcut have to be the same size\n",
    "    X = Activation('relu')(X)\n",
    "\n",
    "    return X"
   ]
  },
  {
   "cell_type": "code",
   "execution_count": 10,
   "metadata": {
    "deletable": false,
    "editable": false,
    "nbgrader": {
     "grade": true,
     "grade_id": "cell-e73a8466b807e261",
     "locked": true,
     "points": 10,
     "schema_version": 3,
     "solution": false,
     "task": false
    }
   },
   "outputs": [
    {
     "name": "stdout",
     "output_type": "stream",
     "text": [
      "\u001b[1mWith training=False\u001b[0m\n",
      "\n",
      "[[[  0.        0.        0.        0.     ]\n",
      "  [  0.        0.        0.        0.     ]]\n",
      "\n",
      " [[192.99992 192.99992 192.99992  96.99996]\n",
      "  [ 96.99996  96.99996  96.99996  48.99998]]\n",
      "\n",
      " [[578.99976 578.99976 578.99976 290.99988]\n",
      "  [290.99988 290.99988 290.99988 146.99994]]]\n",
      "96.99996\n",
      "\n",
      "\u001b[1mWith training=True\u001b[0m\n",
      "\n",
      "[[[0.      0.      0.      0.     ]\n",
      "  [0.      0.      0.      0.     ]]\n",
      "\n",
      " [[0.40732 0.40732 0.40732 0.40732]\n",
      "  [0.40732 0.40732 0.40732 0.40732]]\n",
      "\n",
      " [[5.00011 5.00011 5.00011 3.25955]\n",
      "  [3.25955 3.25955 3.25955 2.40732]]]\n",
      "\u001b[32mAll tests passed!\u001b[0m\n"
     ]
    }
   ],
   "source": [
    "### you cannot edit this cell\n",
    "\n",
    "tf.keras.backend.set_learning_phase(False)\n",
    "\n",
    "np.random.seed(1)\n",
    "tf.random.set_seed(2)\n",
    "X1 = np.ones((1, 4, 4, 3)) * -1\n",
    "X2 = np.ones((1, 4, 4, 3)) * 1\n",
    "X3 = np.ones((1, 4, 4, 3)) * 3\n",
    "\n",
    "X = np.concatenate((X1, X2, X3), axis = 0).astype(np.float32)\n",
    "\n",
    "A3 = identity_block(X, f=2, filters=[4, 4, 3],\n",
    "                   initializer=lambda seed=0:constant(value=1))\n",
    "print('\\033[1mWith training=False\\033[0m\\n')\n",
    "A3np = A3.numpy()\n",
    "print(np.around(A3.numpy()[:,(0,-1),:,:].mean(axis = 3), 5))\n",
    "resume = A3np[:,(0,-1),:,:].mean(axis = 3)\n",
    "print(resume[1, 1, 0])\n",
    "\n",
    "tf.keras.backend.set_learning_phase(True)\n",
    "\n",
    "print('\\n\\033[1mWith training=True\\033[0m\\n')\n",
    "np.random.seed(1)\n",
    "tf.random.set_seed(2)\n",
    "A4 = identity_block(X, f=2, filters=[3, 3, 3],\n",
    "                   initializer=lambda seed=0:constant(value=1))\n",
    "print(np.around(A4.numpy()[:,(0,-1),:,:].mean(axis = 3), 5))\n",
    "\n",
    "public_tests.identity_block_test(identity_block)"
   ]
  },
  {
   "cell_type": "code",
   "execution_count": 11,
   "metadata": {},
   "outputs": [],
   "source": [
    "# Note - The CONV2D layer on the shortcut path does not use any non-linear activation function. \n",
    "# Its main role is to just apply a (learned) linear function that reduces the dimension of the input, \n",
    "# so that the dimensions match up for the later addition step."
   ]
  },
  {
   "cell_type": "markdown",
   "metadata": {},
   "source": [
    "### Convolutional block"
   ]
  },
  {
   "cell_type": "code",
   "execution_count": 12,
   "metadata": {
    "nbgrader": {
     "grade": false,
     "grade_id": "cell-df47af4847e5335f",
     "locked": false,
     "schema_version": 3,
     "solution": true,
     "task": false
    }
   },
   "outputs": [],
   "source": [
    "def convolutional_block(X, f, filters, s = 2, initializer=glorot_uniform):\n",
    "    \"\"\"\n",
    "    Implementation of the convolutional block as defined in Figure 4\n",
    "    \n",
    "    Arguments:\n",
    "    X -- input tensor of shape (m, n_H_prev, n_W_prev, n_C_prev)\n",
    "    f -- integer, specifying the shape of the middle CONV's window for the main path\n",
    "    filters -- python list of integers, defining the number of filters in the CONV layers of the main path\n",
    "    s -- Integer, specifying the stride to be used\n",
    "    initializer -- to set up the initial weights of a layer. Equals to Glorot uniform initializer, \n",
    "                   also called Xavier uniform initializer.\n",
    "    \n",
    "    Returns:\n",
    "    X -- output of the convolutional block, tensor of shape (m, n_H, n_W, n_C)\n",
    "    \"\"\"\n",
    "    \n",
    "    # Retrieve Filters\n",
    "    F1, F2, F3 = filters\n",
    "    \n",
    "    # Save the input value\n",
    "    X_shortcut = X\n",
    "\n",
    "\n",
    "    ##### MAIN PATH #####\n",
    "    \n",
    "    # First component of main path\n",
    "    X = Conv2D(filters = F1, kernel_size = 1, strides = (s, s), padding='valid', kernel_initializer = initializer(seed=0))(X)\n",
    "    X = BatchNormalization(axis = 3)(X)\n",
    "    X = Activation('relu')(X)\n",
    "    # X is of shape ((nh-1)/2) + 1, ((nw-1)/2) + 1, F1\n",
    "    \n",
    "    ## Second component of main path\n",
    "    X = Conv2D(filters = F2, kernel_size = f, strides = 1, padding='same', kernel_initializer = initializer(seed=0))(X)\n",
    "    X = BatchNormalization(axis = 3)(X)\n",
    "    X = Activation('relu')(X) \n",
    "    # X is of shape ((nh-1)/2) + 1, ((nw-1)/2) + 1, F2\n",
    "\n",
    "    ## Third component of main path\n",
    "    X = Conv2D(filters = F3, kernel_size = 1, strides = 1, padding='valid', kernel_initializer = initializer(seed=0))(X) \n",
    "    X = BatchNormalization(axis = 3)(X)\n",
    "    # X is of shape ((nh-1)/2) + 1, ((nw-1)/2) + 1, F3\n",
    "    \n",
    "    ##### SHORTCUT PATH #####\n",
    "    X_shortcut = Conv2D(filters = F3, kernel_size = 1, strides = (s, s), padding='valid', kernel_initializer = initializer(seed=0))(X_shortcut)\n",
    "    X_shortcut = BatchNormalization(axis = 3)(X_shortcut)\n",
    "    # X_shortcut is of shape ((nh-1)/2) + 1, ((nw-1)/2) + 1, F3\n",
    "\n",
    "    # Add shortcut value to main path and pass it through a RELU activation\n",
    "    X = Add()([X, X_shortcut])\n",
    "    X = Activation('relu')(X)\n",
    "    \n",
    "    return X"
   ]
  },
  {
   "cell_type": "code",
   "execution_count": null,
   "metadata": {},
   "outputs": [],
   "source": [
    "# Note\n",
    "\n",
    "# In ResNet, there are 2 blocks - identity blocks and convolutional blocks. I can understand how identity blocks result in the \n",
    "# identity function. But in the case of convolutional blocks, X_shortcut is also passed through 1 convolutional layer. \n",
    "# But there is no activation function and hence there is no non-linear transformation and this kind of represents the \n",
    "# identity function. Because there is only linear transformation.\n",
    "\n",
    "# This is not strictly identity function but it facilitates the training of deeper networks by maintaining stronger \n",
    "# gradient flows, even when the dimensions change."
   ]
  },
  {
   "cell_type": "code",
   "execution_count": 13,
   "metadata": {
    "deletable": false,
    "editable": false,
    "nbgrader": {
     "grade": true,
     "grade_id": "cell-95c291eb244218fe",
     "locked": true,
     "points": 10,
     "schema_version": 3,
     "solution": false,
     "task": false
    }
   },
   "outputs": [
    {
     "name": "stdout",
     "output_type": "stream",
     "text": [
      "tf.Tensor(\n",
      "[[[0.33485505 1.6415989  0.33789736 0.08511472 0.814965   0.        ]\n",
      "  [0.17509979 1.5699672  0.2606045  0.         0.767209   0.        ]]\n",
      "\n",
      " [[0.         1.4983511  0.16896994 0.         0.61830646 0.        ]\n",
      "  [0.         1.4502985  0.11632714 0.         0.58068544 0.        ]]], shape=(2, 2, 6), dtype=float32)\n",
      "\u001b[92mAll tests passed!\n"
     ]
    }
   ],
   "source": [
    "### you cannot edit this cell\n",
    "\n",
    "public_tests.convolutional_block_test(convolutional_block)"
   ]
  },
  {
   "cell_type": "markdown",
   "metadata": {},
   "source": [
    "### Building of ResNet-50 model"
   ]
  },
  {
   "cell_type": "code",
   "execution_count": 14,
   "metadata": {},
   "outputs": [],
   "source": [
    "# Details of ResNet-50 model\n",
    "\n",
    "# Zero-padding pads the input with a pad of (3,3)\n",
    "# Stage 1:\n",
    "# The 2D Convolution has 64 filters of shape (7,7) and uses a stride of (2,2).\n",
    "# BatchNorm is applied to the 'channels' axis of the input.\n",
    "# MaxPooling uses a (3,3) window and a (2,2) stride.\n",
    "\n",
    "# Stage 2:\n",
    "# The convolutional block uses three sets of filters of size [64,64,256], \"f\" is 3, and \"s\" is 1.\n",
    "# The 2 identity blocks use three sets of filters of size [64,64,256], and \"f\" is 3.\n",
    "\n",
    "# Stage 3:\n",
    "# The convolutional block uses three sets of filters of size [128,128,512], \"f\" is 3 and \"s\" is 2.\n",
    "# The 3 identity blocks use three sets of filters of size [128,128,512] and \"f\" is 3.\n",
    "\n",
    "# Stage 4:\n",
    "# The convolutional block uses three sets of filters of size [256, 256, 1024], \"f\" is 3 and \"s\" is 2.\n",
    "# The 5 identity blocks use three sets of filters of size [256, 256, 1024] and \"f\" is 3.\n",
    "\n",
    "# Stage 5:\n",
    "# The convolutional block uses three sets of filters of size [512, 512, 2048], \"f\" is 3 and \"s\" is 2.\n",
    "# The 2 identity blocks use three sets of filters of size [512, 512, 2048] and \"f\" is 3.\n",
    "# The 2D Average Pooling uses a window of shape (2,2).\n",
    "# The 'flatten' layer doesn't have any hyperparameters.\n",
    "# The Fully Connected (Dense) layer reduces its input to the number of classes using a softmax activation."
   ]
  },
  {
   "cell_type": "code",
   "execution_count": 15,
   "metadata": {},
   "outputs": [],
   "source": [
    "# Calculation of total number of layers in ResNet-50 model\n",
    "\n",
    "# 12 Identity_blocks = 36 layers\n",
    "# 4 convolutional_blocks = 12 layers\n",
    "# 1 convolutional layer = 1 layer\n",
    "# 1 fully connected layer = 1 layer\n",
    "\n",
    "# Total = 50 layers"
   ]
  },
  {
   "cell_type": "code",
   "execution_count": 18,
   "metadata": {
    "nbgrader": {
     "grade": false,
     "grade_id": "cell-10dc95a4cf6275b9",
     "locked": false,
     "schema_version": 3,
     "solution": true,
     "task": false
    }
   },
   "outputs": [],
   "source": [
    "def ResNet50(input_shape = (64, 64, 3), classes = 6, training=False):\n",
    "    \"\"\"\n",
    "    Stage-wise implementation of the architecture of the popular ResNet50:\n",
    "    CONV2D -> BATCHNORM -> RELU -> MAXPOOL -> CONVBLOCK -> IDBLOCK*2 -> CONVBLOCK -> IDBLOCK*3\n",
    "    -> CONVBLOCK -> IDBLOCK*5 -> CONVBLOCK -> IDBLOCK*2 -> AVGPOOL -> FLATTEN -> DENSE \n",
    "\n",
    "    Arguments:\n",
    "    input_shape -- shape of the images of the dataset\n",
    "    classes -- integer, number of classes\n",
    "\n",
    "    Returns:\n",
    "    model -- a Model() instance in Keras\n",
    "    \"\"\"\n",
    "    \n",
    "    # Define the input as a tensor with shape input_shape\n",
    "    X_input = Input(input_shape)\n",
    "\n",
    "    \n",
    "    # Zero-Padding\n",
    "    X = ZeroPadding2D((3, 3))(X_input)\n",
    "    \n",
    "    # Stage 1\n",
    "    X = Conv2D(64, (7, 7), strides = (2, 2), kernel_initializer = glorot_uniform(seed=0))(X)\n",
    "    X = BatchNormalization(axis = 3)(X)\n",
    "    X = Activation('relu')(X)\n",
    "    X = MaxPooling2D((3, 3), strides=(2, 2))(X)\n",
    "\n",
    "    # Stage 2\n",
    "    X = convolutional_block(X, f = 3, filters = [64, 64, 256], s = 1)\n",
    "    # After above step, suppose X is of shape nh,nw,256\n",
    "    X = identity_block(X, 3, [64, 64, 256])\n",
    "    # After above step, X is of shape nh,nw,256\n",
    "    X = identity_block(X, 3, [64, 64, 256])\n",
    "    # After above step, X is of shape nh,nw,256\n",
    "    \n",
    "    # Note - For the convolutional block, we can blindly take any values of f,filters,s\n",
    "    # But for identity_block, if input is of shape (nh,nw,nc), then filters is [F1,F2,nc]. f can be any value\n",
    "    \n",
    "    # Use the instructions above in order to implement all of the Stages below\n",
    "    # Make sure you don't miss adding any required parameter\n",
    "    \n",
    "    ## Stage 3\n",
    "    X = convolutional_block(X, f = 3, filters = [128, 128, 512], s = 2)\n",
    "    # After above step, X is of shape ((nh-1)/2) + 1, ((nw-1)/2) + 1, 512 or (nh',nw',512)\n",
    "    \n",
    "    # the 3 `identity_block` with correct values of `f` and `filters` for this stage\n",
    "    X = identity_block(X, 3, [128, 128, 512])\n",
    "    # After above step, X is of shape ((nh-1)/2) + 1, ((nw-1)/2) + 1, 512 or (nh',nw',512)\n",
    "    X = identity_block(X, 3, [128, 128, 512])\n",
    "    # After above step, X is of shape ((nh-1)/2) + 1, ((nw-1)/2) + 1, 512 or (nh',nw',512)\n",
    "    X = identity_block(X, 3, [128, 128, 512])\n",
    "    # After above step, X is of shape ((nh-1)/2) + 1, ((nw-1)/2) + 1, 512 or (nh',nw',512)\n",
    "\n",
    "    # Stage 4\n",
    "    # add `convolutional_block` with correct values of `f`, `filters` and `s` for this stage\n",
    "    X = convolutional_block(X, f = 3, filters = [256, 256, 1024], s = 2)\n",
    "    # After above step, X is of shape ((nh'-1)/2) + 1, ((nw'-1)/2) + 1, 1024 or (nh'',nw'',1024)\n",
    "    \n",
    "    # the 5 `identity_block` with correct values of `f` and `filters` for this stage\n",
    "    X = identity_block(X, 3, [256, 256, 1024])\n",
    "    # After above step, X is of shape ((nh'-1)/2) + 1, ((nw'-1)/2) + 1, 1024 or (nh'',nw'',1024)\n",
    "    X = identity_block(X, 3, [256, 256, 1024])\n",
    "    # After above step, X is of shape ((nh'-1)/2) + 1, ((nw'-1)/2) + 1, 1024 or (nh'',nw'',1024)\n",
    "    X = identity_block(X, 3, [256, 256, 1024])\n",
    "    # After above step, X is of shape ((nh'-1)/2) + 1, ((nw'-1)/2) + 1, 1024 or (nh'',nw'',1024)\n",
    "    X = identity_block(X, 3, [256, 256, 1024])\n",
    "    # After above step, X is of shape ((nh'-1)/2) + 1, ((nw'-1)/2) + 1, 1024 or (nh'',nw'',1024)\n",
    "    X = identity_block(X, 3, [256, 256, 1024])\n",
    "    # After above step, X is of shape ((nh'-1)/2) + 1, ((nw'-1)/2) + 1, 1024 or (nh'',nw'',1024)\n",
    "\n",
    "    # Stage 5\n",
    "    # add `convolutional_block` with correct values of `f`, `filters` and `s` for this stage\n",
    "    X = convolutional_block(X, f = 3, filters = [512, 512, 2048], s = 2)\n",
    "    # After above step, X is of shape ((nh''-1)/2) + 1, ((nw''-1)/2) + 1, 2048 or (nh''',nw''',2048)\n",
    "    \n",
    "    # the 2 `identity_block` with correct values of `f` and `filters` for this stage\n",
    "    X = identity_block(X, 3, [512, 512, 2048])\n",
    "    # After above step, X is of shape ((nh''-1)/2) + 1, ((nw''-1)/2) + 1, 2048 or (nh''',nw''',2048)\n",
    "    X = identity_block(X, 3, [512, 512, 2048])\n",
    "    # After above step, X is of shape ((nh''-1)/2) + 1, ((nw''-1)/2) + 1, 2048 or (nh''',nw''',2048)\n",
    "\n",
    "    # AVGPOOL\n",
    "    X = AveragePooling2D((2,2))(X)\n",
    "\n",
    "    # output layer\n",
    "    X = Flatten()(X)\n",
    "    X = Dense(classes, activation='softmax', kernel_initializer = glorot_uniform(seed=0))(X)\n",
    "    \n",
    "    \n",
    "    # Create model\n",
    "    model = Model(inputs = X_input, outputs = X)\n",
    "\n",
    "    return model"
   ]
  },
  {
   "cell_type": "code",
   "execution_count": null,
   "metadata": {},
   "outputs": [],
   "source": [
    "tf.keras.backend.set_learning_phase(True)\n",
    "\n",
    "# The above line of code explicitly sets it to the learning/training phase which is different from inferrence/prediction phase.\n",
    "\n",
    "# Differences between training and prediction phase\n",
    "# During training, dropout randomly sets input units to 0 at a rate of rate at each step, which helps prevent overfitting, and \n",
    "# batch normalization normalizes the input using the batch statistics.\n",
    "# During inference, dropout is not applied, and batch normalization uses the moving average and variance calculated during \n",
    "# training.\n",
    "\n",
    "# In TensorFlow 2.x and later,\n",
    "# When calling model.fit(), TensorFlow automatically sets the learning phase to training mode.\n",
    "# When using model.evaluate() or model.predict(), TensorFlow sets the learning phase to inference mode.\n",
    "\n",
    "model = ResNet50(input_shape = (64, 64, 3), classes = 6)\n",
    "print(model.summary())"
   ]
  },
  {
   "cell_type": "code",
   "execution_count": 20,
   "metadata": {
    "deletable": false,
    "editable": false,
    "nbgrader": {
     "grade": true,
     "grade_id": "cell-866b891ec47ccb7b",
     "locked": true,
     "points": 10,
     "schema_version": 3,
     "solution": false,
     "task": false
    }
   },
   "outputs": [
    {
     "name": "stdout",
     "output_type": "stream",
     "text": [
      "\u001b[32mAll tests passed!\u001b[0m\n"
     ]
    }
   ],
   "source": [
    "### you cannot edit this cell\n",
    "\n",
    "from outputs import ResNet50_summary\n",
    "\n",
    "model = ResNet50(input_shape = (64, 64, 3), classes = 6)\n",
    "\n",
    "comparator(summary(model), ResNet50_summary)\n"
   ]
  },
  {
   "cell_type": "markdown",
   "metadata": {},
   "source": [
    "### Compiling the model"
   ]
  },
  {
   "cell_type": "code",
   "execution_count": 22,
   "metadata": {},
   "outputs": [],
   "source": [
    "np.random.seed(1)\n",
    "tf.random.set_seed(2)\n",
    "opt = tf.keras.optimizers.Adam(learning_rate=0.00015)\n",
    "model.compile(optimizer=opt, loss='categorical_crossentropy', metrics=['accuracy'])"
   ]
  },
  {
   "cell_type": "markdown",
   "metadata": {},
   "source": [
    "### Loading the dataset"
   ]
  },
  {
   "cell_type": "code",
   "execution_count": 23,
   "metadata": {
    "scrolled": true
   },
   "outputs": [
    {
     "name": "stdout",
     "output_type": "stream",
     "text": [
      "number of training examples = 1080\n",
      "number of test examples = 120\n",
      "X_train shape: (1080, 64, 64, 3)\n",
      "Y_train shape: (1080, 6)\n",
      "X_test shape: (120, 64, 64, 3)\n",
      "Y_test shape: (120, 6)\n"
     ]
    }
   ],
   "source": [
    "X_train_orig, Y_train_orig, X_test_orig, Y_test_orig, classes = load_dataset()\n",
    "\n",
    "# Normalize image vectors\n",
    "X_train = X_train_orig / 255.\n",
    "X_test = X_test_orig / 255.\n",
    "\n",
    "# Convert training and test labels to one hot matrices\n",
    "Y_train = convert_to_one_hot(Y_train_orig, 6).T\n",
    "Y_test = convert_to_one_hot(Y_test_orig, 6).T\n",
    "\n",
    "print (\"number of training examples = \" + str(X_train.shape[0]))\n",
    "print (\"number of test examples = \" + str(X_test.shape[0]))\n",
    "print (\"X_train shape: \" + str(X_train.shape))\n",
    "print (\"Y_train shape: \" + str(Y_train.shape))\n",
    "print (\"X_test shape: \" + str(X_test.shape))\n",
    "print (\"Y_test shape: \" + str(Y_test.shape))"
   ]
  },
  {
   "cell_type": "markdown",
   "metadata": {},
   "source": [
    "### Training the model"
   ]
  },
  {
   "cell_type": "code",
   "execution_count": 24,
   "metadata": {},
   "outputs": [
    {
     "name": "stdout",
     "output_type": "stream",
     "text": [
      "Epoch 1/10\n",
      "34/34 [==============================] - 16s 63ms/step - loss: 1.8302 - accuracy: 0.3019\n",
      "Epoch 2/10\n",
      "34/34 [==============================] - 2s 51ms/step - loss: 1.2657 - accuracy: 0.5259\n",
      "Epoch 3/10\n",
      "34/34 [==============================] - 2s 51ms/step - loss: 0.9542 - accuracy: 0.6583\n",
      "Epoch 4/10\n",
      "34/34 [==============================] - 2s 51ms/step - loss: 0.6513 - accuracy: 0.7648\n",
      "Epoch 5/10\n",
      "34/34 [==============================] - 2s 52ms/step - loss: 0.3943 - accuracy: 0.8574\n",
      "Epoch 6/10\n",
      "34/34 [==============================] - 2s 51ms/step - loss: 0.2600 - accuracy: 0.9009\n",
      "Epoch 7/10\n",
      "34/34 [==============================] - 2s 51ms/step - loss: 0.3027 - accuracy: 0.8963\n",
      "Epoch 8/10\n",
      "34/34 [==============================] - 2s 51ms/step - loss: 0.2490 - accuracy: 0.9065\n",
      "Epoch 9/10\n",
      "34/34 [==============================] - 2s 52ms/step - loss: 0.1940 - accuracy: 0.9343\n",
      "Epoch 10/10\n",
      "34/34 [==============================] - 2s 50ms/step - loss: 0.1304 - accuracy: 0.9528\n"
     ]
    },
    {
     "data": {
      "text/plain": [
       "<keras.callbacks.History at 0x7fe61c8be4f0>"
      ]
     },
     "execution_count": 24,
     "metadata": {},
     "output_type": "execute_result"
    }
   ],
   "source": [
    "model.fit(X_train, Y_train, epochs = 10, batch_size = 32)"
   ]
  },
  {
   "cell_type": "code",
   "execution_count": 25,
   "metadata": {
    "scrolled": true
   },
   "outputs": [
    {
     "name": "stdout",
     "output_type": "stream",
     "text": [
      "4/4 [==============================] - 1s 11ms/step - loss: 0.6611 - accuracy: 0.7917\n",
      "Loss = 0.661126971244812\n",
      "Test Accuracy = 0.7916666865348816\n"
     ]
    }
   ],
   "source": [
    "preds = model.evaluate(X_test, Y_test)\n",
    "print (\"Loss = \" + str(preds[0]))\n",
    "print (\"Test Accuracy = \" + str(preds[1]))"
   ]
  },
  {
   "cell_type": "markdown",
   "metadata": {},
   "source": [
    "### Using a pre_trained model"
   ]
  },
  {
   "cell_type": "code",
   "execution_count": 26,
   "metadata": {},
   "outputs": [],
   "source": [
    "pre_trained_model = load_model('resnet50.h5')"
   ]
  },
  {
   "cell_type": "code",
   "execution_count": 27,
   "metadata": {},
   "outputs": [
    {
     "name": "stdout",
     "output_type": "stream",
     "text": [
      "4/4 [==============================] - 1s 9ms/step - loss: 0.1596 - accuracy: 0.9500\n",
      "Loss = 0.1595880389213562\n",
      "Test Accuracy = 0.949999988079071\n"
     ]
    }
   ],
   "source": [
    "preds = pre_trained_model.evaluate(X_test, Y_test)\n",
    "print (\"Loss = \" + str(preds[0]))\n",
    "print (\"Test Accuracy = \" + str(preds[1]))"
   ]
  },
  {
   "cell_type": "code",
   "execution_count": null,
   "metadata": {},
   "outputs": [],
   "source": [
    "# Note\n",
    "\n",
    "# Very deep \"plain\" networks don't work in practice because vanishing gradients make them hard to train.\n",
    "# Skip connections help address the Vanishing Gradient problem. They also make it easy for a ResNet block to learn an \n",
    "# identity function.\n",
    "# There are two main types of blocks: The identity block and the convolutional block.\n",
    "# Very deep Residual Networks are built by stacking these blocks together."
   ]
  }
 ],
 "metadata": {
  "kernelspec": {
   "display_name": "Python 3",
   "language": "python",
   "name": "python3"
  },
  "language_info": {
   "codemirror_mode": {
    "name": "ipython",
    "version": 3
   },
   "file_extension": ".py",
   "mimetype": "text/x-python",
   "name": "python",
   "nbconvert_exporter": "python",
   "pygments_lexer": "ipython3",
   "version": "3.8.10"
  }
 },
 "nbformat": 4,
 "nbformat_minor": 4
}
